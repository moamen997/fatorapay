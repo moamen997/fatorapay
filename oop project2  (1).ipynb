{
 "cells": [
  {
   "cell_type": "code",
   "execution_count": null,
   "metadata": {},
   "outputs": [],
   "source": [
    "num1=float(input(\"first number \"))\n",
    "num2=float(input(\"seccond number \"))\n",
    "opration= input(\"the opration \")\n",
    "if opration == \"+\":\n",
    "    print(num1+num2)\n",
    "elif opration == \"-\":\n",
    "    print(num1-num2)\n",
    "elif opration == \"*\":\n",
    "    print(num1*num2)\n",
    "elif opration == \"/\":\n",
    "    print(num1/num2)\n",
    "else:\n",
    "    print(\"wrong opration\")"
   ]
  },
  {
   "cell_type": "code",
   "execution_count": null,
   "metadata": {},
   "outputs": [],
   "source": []
  },
  {
   "cell_type": "code",
   "execution_count": null,
   "metadata": {},
   "outputs": [],
   "source": []
  },
  {
   "cell_type": "code",
   "execution_count": 108,
   "metadata": {},
   "outputs": [],
   "source": [
    "class Fatora:\n",
    "    def __init__(self):\n",
    "        print(\"Pay By Fatora\")\n",
    "    def sing_in(self):\n",
    "        self.name= input(\"your name please : \")\n",
    "        self.__password=int(input(\"enter your password: \"))\n",
    "        self.__commercial_register=int(input(\"your commercial register: \"))\n",
    "        self.__email=input(\"your email: \")\n",
    "        print(\"successfully registered\")\n",
    "    def log_in(self):\n",
    "        user_name=input(\"enter your name: \")\n",
    "        user_password=int(input(\"enter your password: \"))\n",
    "        if user_name==self.name and user_password==self.__password:\n",
    "            print(\"you can accses\")\n",
    "        else:\n",
    "            print(\"wrong thing please try again to acces\")\n",
    "    def _check_password(self):\n",
    "        yourpass=int(input(\"enter your password:\"))\n",
    "        if yourpass == self.__password:\n",
    "            print(\"true password\")\n",
    "        else:\n",
    "            print(\"false password\")\n",
    "    def total_expenses(self): #المصروفات \n",
    "        self.expenses=int(input(\"your total expenses: \"))\n",
    "        print(f\"your total expenses: {self.expenses} egyptian pounds\")\n",
    "    def total_revenues(self): # الايردادت \n",
    "        self.revenues=int(input(\"your total revenues: \"))\n",
    "        print(f\"your total revenues: {self.revenues} egyptian pounds\")\n",
    "    def total_profits(self): #الارباح \n",
    "        self.total_profits=self.revenues-self.expenses\n",
    "        if self.revenues>self.expenses:\n",
    "            return f\"your total profits is:{self.total_profits} egyptian pounds\"\n",
    "        else:\n",
    "            return f\"You have no earnings\"\n",
    "    def taxes_rate(self): #نسبة الضرائب\n",
    "        if self.revenues>self.expenses:\n",
    "            self.taxes_rate=float(input(\"taxes rate: from profits\"))\n",
    "            self.amount_for_taxes=self.total_profits* self.taxes_rate\n",
    "            print(f\"The amount paid for taxes {self.amount_for_taxes} egyptian pounds\")\n",
    "        else:\n",
    "            print(\"You are tax exempt because you have no earnings\")\n",
    "    def net_profit(self): #صافي الربح \n",
    "        if self.revenues>self.expenses:\n",
    "            self.net_profits =self.total_profits-self.amount_for_taxes\n",
    "            return f\"your net profits is:{self.net_profits} egyptian pounds\"\n",
    "        else:\n",
    "            return \"You have no net profit\"\n",
    "    def all_info_user(self): \n",
    "        self.your_commercial_register = int(input(\"your commercial register: \"))\n",
    "        if self.your_commercial_register == self.__commercial_register:\n",
    "            print(f\"your user name is :{self.name}\")\n",
    "            print(f\"your email is :{self.__email}\")\n",
    "            print(f\"your total expenses: {self.expenses} egyptian pounds\")\n",
    "            print(f\"your total revenues: {self.revenues} egyptian pounds\")\n",
    "            if self.revenues>self.expenses:\n",
    "                print(f\"your taxes rate is :{self.amount_for_taxes} egyptian pounds\")\n",
    "                print(f\"your total profits is:{self.total_profits} egyptian pounds\")\n",
    "                print(f\"your net profits is:{self.net_profits} egyptian pounds\")\n",
    "            else:\n",
    "                print(\"Since you did not lose, you are exempt\")\n",
    "        else:\n",
    "            print(\"you cant acces\")\n",
    "    def get_email(self):\n",
    "        return self.__email\n",
    "    def set_email(self, new_email):\n",
    "        self.__email=new_email\n",
    "    def get_commercial_register(self):\n",
    "        return self.__commercial_register\n",
    "    def set_commercial_register(self, new_commercial_register):\n",
    "        self.__commercial_register=new_commercial_register"
   ]
  },
  {
   "cell_type": "code",
   "execution_count": 109,
   "metadata": {},
   "outputs": [
    {
     "name": "stdout",
     "output_type": "stream",
     "text": [
      "Pay By Fatora\n"
     ]
    }
   ],
   "source": [
    "f=Fatora()"
   ]
  },
  {
   "cell_type": "code",
   "execution_count": 110,
   "metadata": {
    "scrolled": true
   },
   "outputs": [
    {
     "name": "stdout",
     "output_type": "stream",
     "text": [
      "your name please : momen\n",
      "enter your password: 123\n",
      "your commercial register: 111\n",
      "your email: ooo\n",
      "successfully registered\n"
     ]
    }
   ],
   "source": [
    "f.sing_in()"
   ]
  },
  {
   "cell_type": "code",
   "execution_count": 101,
   "metadata": {},
   "outputs": [
    {
     "name": "stdout",
     "output_type": "stream",
     "text": [
      "enter your name: momen\n",
      "enter your password: 123\n",
      "you can accses\n"
     ]
    }
   ],
   "source": [
    "f.log_in()"
   ]
  },
  {
   "cell_type": "code",
   "execution_count": 111,
   "metadata": {},
   "outputs": [
    {
     "name": "stdout",
     "output_type": "stream",
     "text": [
      "your total expenses: 1000\n",
      "your total expenses: 1000 egyptian pounds\n"
     ]
    }
   ],
   "source": [
    "f.total_expenses()"
   ]
  },
  {
   "cell_type": "code",
   "execution_count": 112,
   "metadata": {},
   "outputs": [
    {
     "name": "stdout",
     "output_type": "stream",
     "text": [
      "your total revenues: 500\n",
      "your total revenues: 500 egyptian pounds\n"
     ]
    }
   ],
   "source": [
    "f.total_revenues()"
   ]
  },
  {
   "cell_type": "code",
   "execution_count": 113,
   "metadata": {},
   "outputs": [
    {
     "data": {
      "text/plain": [
       "'You have no earnings'"
      ]
     },
     "execution_count": 113,
     "metadata": {},
     "output_type": "execute_result"
    }
   ],
   "source": [
    "f.total_profits()"
   ]
  },
  {
   "cell_type": "code",
   "execution_count": 114,
   "metadata": {},
   "outputs": [
    {
     "name": "stdout",
     "output_type": "stream",
     "text": [
      "You are tax exempt because you have no earnings\n"
     ]
    }
   ],
   "source": [
    "f.taxes_rate()"
   ]
  },
  {
   "cell_type": "code",
   "execution_count": 115,
   "metadata": {},
   "outputs": [
    {
     "data": {
      "text/plain": [
       "'You have no net profit'"
      ]
     },
     "execution_count": 115,
     "metadata": {},
     "output_type": "execute_result"
    }
   ],
   "source": [
    "f.net_profit()"
   ]
  },
  {
   "cell_type": "code",
   "execution_count": 116,
   "metadata": {},
   "outputs": [
    {
     "name": "stdout",
     "output_type": "stream",
     "text": [
      "your commercial register: 111\n",
      "your user name is :momen\n",
      "your email is :ooo\n",
      "your total expenses: 1000 egyptian pounds\n",
      "your total revenues: 500 egyptian pounds\n",
      "Since you did not lose, you are exempt\n"
     ]
    }
   ],
   "source": [
    "f.all_info_user()"
   ]
  },
  {
   "cell_type": "code",
   "execution_count": 71,
   "metadata": {},
   "outputs": [
    {
     "data": {
      "text/plain": [
       "'ooooo'"
      ]
     },
     "execution_count": 71,
     "metadata": {},
     "output_type": "execute_result"
    }
   ],
   "source": [
    "f.get_email()"
   ]
  },
  {
   "cell_type": "code",
   "execution_count": 72,
   "metadata": {},
   "outputs": [
    {
     "name": "stdout",
     "output_type": "stream",
     "text": [
      "your new email:pppp\n"
     ]
    },
    {
     "data": {
      "text/plain": [
       "'pppp'"
      ]
     },
     "execution_count": 72,
     "metadata": {},
     "output_type": "execute_result"
    }
   ],
   "source": [
    "f.set_email(input(\"your new email:\"))\n",
    "f.get_email()"
   ]
  },
  {
   "cell_type": "code",
   "execution_count": 78,
   "metadata": {},
   "outputs": [
    {
     "data": {
      "text/plain": [
       "111"
      ]
     },
     "execution_count": 78,
     "metadata": {},
     "output_type": "execute_result"
    }
   ],
   "source": [
    "f.get_commercial_register()"
   ]
  },
  {
   "cell_type": "code",
   "execution_count": 79,
   "metadata": {},
   "outputs": [
    {
     "name": "stdout",
     "output_type": "stream",
     "text": [
      "your new commercial register: 222\n"
     ]
    },
    {
     "data": {
      "text/plain": [
       "'222'"
      ]
     },
     "execution_count": 79,
     "metadata": {},
     "output_type": "execute_result"
    }
   ],
   "source": [
    "f.set_commercial_register(input(\"your new commercial register: \"))\n",
    "f.get_commercial_register()"
   ]
  },
  {
   "cell_type": "code",
   "execution_count": null,
   "metadata": {},
   "outputs": [],
   "source": []
  }
 ],
 "metadata": {
  "kernelspec": {
   "display_name": "Python 3",
   "language": "python",
   "name": "python3"
  }
 },
 "nbformat": 4,
 "nbformat_minor": 4
}
